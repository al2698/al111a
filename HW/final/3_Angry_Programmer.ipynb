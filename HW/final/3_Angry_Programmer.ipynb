{
 "cells": [
  {
   "cell_type": "code",
   "execution_count": 1,
   "id": "2b5b757f",
   "metadata": {
    "scrolled": true
   },
   "outputs": [
    {
     "name": "stderr",
     "output_type": "stream",
     "text": [
      "4\n",
      "3\n"
     ]
    }
   ],
   "source": [
    "import sys\n",
    "import numpy as np\n",
    "\n",
    "sys.stdin = open(\"input.txt\", \"r\")\n",
    "sys.stdout = open(\"output.txt\", \"w\")\n",
    "input = sys.stdin.readline\n",
    "\n",
    "M, W = map(int, input().split())\n",
    "\n",
    "while M or W:\n",
    "    _s = 1\n",
    "    G = [[0] * 8 for _ in range(8)]\n",
    "    p = [0] * 150\n",
    "    vis = [False] * 150\n",
    "\n",
    "    node = M - 2\n",
    "    _t = M + node\n",
    "\n",
    "    for i in range(node):\n",
    "        U, C = map(int, input().split())\n",
    "        G[U][U + node] = G[U + node][U] = C\n",
    "\n",
    "    for _ in range(W):\n",
    "        U, V, C = map(int, input().split())\n",
    "\n",
    "        if U == M:\n",
    "            U = _t\n",
    "        if V == M:\n",
    "            V = _t\n",
    "        _u = (U != 1 and U != _t) and U + node or U\n",
    "        _v = (V != 1 and V != _t) and V + node or V\n",
    "\n",
    "        G[_u][V] = G[_v][U] = C\n",
    "\n",
    "    def findflow(u, v, c):\n",
    "        if v == _s:\n",
    "            return c\n",
    "        c = findflow(p[u], u, min(G[u][v], c))\n",
    "        G[u][v] -= c\n",
    "        G[v][u] += c\n",
    "        return c\n",
    "\n",
    "    def maxflow():\n",
    "        ret = 0\n",
    "        while True:\n",
    "            vis = [False] * 150\n",
    "            Q = []\n",
    "            Q.append(_s)\n",
    "            vis[_s] = True\n",
    "\n",
    "            while Q and not vis[_t]:\n",
    "                u = Q.pop(0)\n",
    "\n",
    "                for i in range(_s, _t + 1):\n",
    "                    if not vis[i] and G[u][i] > 0:\n",
    "                        Q.append(i)\n",
    "                        vis[i] = True\n",
    "                        p[i] = u\n",
    "\n",
    "            if not vis[_t]:\n",
    "                break\n",
    "            ret += findflow(p[_t], _t, int(1e9))\n",
    "        return ret\n",
    "\n",
    "    min_ret = maxflow()\n",
    "    print(min_ret)\n",
    "    print(min_ret, file=sys.stderr)\n",
    "    M, W = map(int, input().split())"
   ]
  },
  {
   "cell_type": "code",
   "execution_count": null,
   "id": "d8419d81",
   "metadata": {},
   "outputs": [],
   "source": []
  }
 ],
 "metadata": {
  "kernelspec": {
   "display_name": "Python 3 (ipykernel)",
   "language": "python",
   "name": "python3"
  },
  "language_info": {
   "codemirror_mode": {
    "name": "ipython",
    "version": 3
   },
   "file_extension": ".py",
   "mimetype": "text/x-python",
   "name": "python",
   "nbconvert_exporter": "python",
   "pygments_lexer": "ipython3",
   "version": "3.9.13"
  }
 },
 "nbformat": 4,
 "nbformat_minor": 5
}
