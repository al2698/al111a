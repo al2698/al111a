{
 "cells": [
  {
   "cell_type": "code",
   "execution_count": 29,
   "id": "79e5f03b",
   "metadata": {},
   "outputs": [
    {
     "name": "stdout",
     "output_type": "stream",
     "text": [
      "5\n",
      "9\n"
     ]
    }
   ],
   "source": [
    "import sys\n",
    "sys.stdin = open(\"input2.txt\", \"r\")\n",
    "input = sys.stdin.readline\n",
    "\n",
    "\n",
    "def dfs(i, j, graph, visited):\n",
    "    # 將當前位置標記為已訪問\n",
    "    visited[i][j] = True\n",
    "    # 將當前位置的值加 1，表示找到了一個 'J' 字符\n",
    "    count = 1\n",
    "\n",
    "    # 搜索上下左右四個方向\n",
    "    for dx, dy in [(1, 0), (-1, 0), (0, 1), (0, -1)]:\n",
    "        x, y = i + dx, j + dy\n",
    "        # 判斷是否越界或者已經訪問過\n",
    "        if x < 0 or x >= len(graph) or y < 0 or y >= len(graph[0]) or visited[x][y]:\n",
    "            continue\n",
    "        # 如果當前位置是 'J' 字符，就繼續搜索\n",
    "        if graph[x][y] == 'J':\n",
    "            count += dfs(x, y, graph, visited)\n",
    "\n",
    "    return count\n",
    "\n",
    "def main():\n",
    "    # 讀入 m 和 n\n",
    "    m, n = map(int, input().split())\n",
    "    # 讀入圖\n",
    "    graph = []\n",
    "    for _ in range(m):\n",
    "        graph.append(input())\n",
    "\n",
    "    # 初始化訪問數組\n",
    "    visited = [[False] * n for _ in range(m)]\n",
    "\n",
    "    # 統計有多少個連通塊，以及最大的連通塊的大小\n",
    "    cluster_count = 0\n",
    "    max_cluster_size = 0\n",
    "    for i in range(m):\n",
    "        for j in range(n):\n",
    "            # 如果當前位置是 'J' 字符，就開始搜索\n",
    "            if graph[i][j] == 'J' and not visited[i][j]:\n",
    "                cluster_size = dfs(i, j, graph, visited)\n",
    "                cluster_count += 1\n",
    "                max_cluster_size = max(max_cluster_size, cluster_size)\n",
    "\n",
    "    # 輸出結果\n",
    "    print(cluster_count)\n",
    "    print(max_cluster_size)\n",
    "\n",
    "if __name__ == '__main__':\n",
    "    main()"
   ]
  },
  {
   "cell_type": "code",
   "execution_count": 86,
   "id": "393da2ed",
   "metadata": {},
   "outputs": [
    {
     "name": "stdout",
     "output_type": "stream",
     "text": [
      "1  1  1  1  1  1  1  \n",
      "1  0  1  2  1  1  1  \n",
      "1  0  0  1  0  2  1  \n",
      "1  0  0  0  0  1  1  \n",
      "1  0  1  1  1  1  1  \n",
      "1  0  1  2  1  2  1  \n",
      "1  0  0  0  0  0  1  \n",
      "1  1  1  1  1  1  1  \n",
      "位置： (2, 5)\n",
      "---\n",
      "steps： 7\n"
     ]
    }
   ],
   "source": [
    "from collections import deque\n",
    "import sys\n",
    "\n",
    "sys.stdin = open(\"input3.txt\", \"r\")\n",
    "input = sys.stdin.readline\n",
    "\n",
    "def bfs(r, c, a, b, state):\n",
    "    queue = deque()\n",
    "    visited = set()\n",
    "\n",
    "    queue.append((a, b))\n",
    "    visited.add((a, b))\n",
    "\n",
    "    steps = 0\n",
    "\n",
    "    while queue:\n",
    "        size = len(queue)\n",
    "        for _ in range(size):\n",
    "            x, y = queue.popleft()\n",
    "            if state[x][y] == 2:\n",
    "                #print('位置：',(x,y))\n",
    "                return steps\n",
    "            for dx, dy in ((0, -1), (0, 1), (-1, 0), (1, 0)):\n",
    "                new_x, new_y = x + dx, y + dy\n",
    "                if 0 <= new_x < r and 0 <= new_y < c and (new_x, new_y) not in visited and state[new_x][new_y] != 1:\n",
    "                    queue.append((new_x, new_y))\n",
    "                    visited.add((new_x, new_y))\n",
    "        steps += 1\n",
    "    return \"WAKUWAKU\"\n",
    "\n",
    "r, c, a, b = map(int, input().split())\n",
    "state = [list(map(int, input().split())) for _ in range(r)]\n",
    "'''for row in state:\n",
    "    for elem in row:\n",
    "        print(elem, end='  ')\n",
    "    print()\n",
    "print('---\\nsteps：',bfs(r, c, a, b, state))'''\n",
    "print(bfs(r, c, a, b, state))"
   ]
  },
  {
   "cell_type": "code",
   "execution_count": null,
   "id": "002a9ffa",
   "metadata": {},
   "outputs": [],
   "source": []
  }
 ],
 "metadata": {
  "kernelspec": {
   "display_name": "Python 3 (ipykernel)",
   "language": "python",
   "name": "python3"
  },
  "language_info": {
   "codemirror_mode": {
    "name": "ipython",
    "version": 3
   },
   "file_extension": ".py",
   "mimetype": "text/x-python",
   "name": "python",
   "nbconvert_exporter": "python",
   "pygments_lexer": "ipython3",
   "version": "3.9.13"
  }
 },
 "nbformat": 4,
 "nbformat_minor": 5
}
