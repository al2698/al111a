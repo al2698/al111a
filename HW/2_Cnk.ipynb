{
 "cells": [
  {
   "cell_type": "code",
   "execution_count": 172,
   "id": "7aed5bb0",
   "metadata": {},
   "outputs": [
    {
     "name": "stdout",
     "output_type": "stream",
     "text": [
      "{(2, 3, 4): 5, (1, 3, 4): 4, (3, 4, 5): 6, (1, 2, 3): 6, (2, 3, 5): 7, (1, 2, 4): 6, (1, 4, 5): 4, (1, 3, 5): 12, (2, 4, 5): 3, (1, 2, 5): 2}\n"
     ]
    }
   ],
   "source": [
    "import random as rd\n",
    "\n",
    "def rdCombined(pA, k):\n",
    "    A = pA.copy()\n",
    "    chooses = []\n",
    "    for _ in range(k):\n",
    "        i = rd.randrange(0, len(A))\n",
    "        chooses.append(A[i])\n",
    "        del A[i] #選到哪個就刪除哪個，防止隨機選擇到同樣的\n",
    "    chooses.sort() #由大排到小\n",
    "    return chooses # 將函式結果傳出去\n",
    "\n",
    "A = [1,2,3,4,5]\n",
    "results = {}\n",
    "for _ in range(55):\n",
    "    result = tuple(rdCombined(A, 3))\n",
    "    if result in results:\n",
    "        results[result] += 1\n",
    "    else:\n",
    "        results[result] = 1\n",
    "\n",
    "print(results)\n"
   ]
  },
  {
   "cell_type": "code",
   "execution_count": 188,
   "id": "49d82049",
   "metadata": {},
   "outputs": [
    {
     "name": "stdout",
     "output_type": "stream",
     "text": [
      "{(3, 2, 1): 1, (4, 2, 1): 1, (4, 3, 1): 1, (4, 3, 2): 1, (5, 2, 1): 1, (5, 3, 1): 1, (5, 3, 2): 1, (5, 4, 1): 1, (5, 4, 2): 1, (5, 4, 3): 1}\n"
     ]
    }
   ],
   "source": [
    "def combination(A, m): # 從 A 陣列中取出 m 個的所有可能性\n",
    "    chooses = []\n",
    "    results = {}\n",
    "    Cnk(A, len(A), m, chooses, m, results)\n",
    "    return results\n",
    "\n",
    "def Cnk(A, n, k, chooses, m, results): # 從 A[0..n] 中選取 k 個補進 chooses，如果滿 m 個就儲存在results\n",
    "    if len(chooses)==m:\n",
    "        result = tuple(chooses)\n",
    "        if result in results:\n",
    "            results[result] += 1\n",
    "        else:\n",
    "            results[result] = 1\n",
    "        return\n",
    "    if n <= 0: return\n",
    "    Cnk(A,n-1,k,chooses,m,results) # C(n-1,k) // A[n-1] 沒取到\n",
    "\n",
    "    chooses.append(A[n-1])\n",
    "    Cnk(A,n-1,k-1,chooses,m,results) # C(n-1,k-1) // A[n-1] 有取到\n",
    "    del chooses[-1]\n",
    "\n",
    "print(combination([1,2,3,4,5], 3))"
   ]
  }
 ],
 "metadata": {
  "kernelspec": {
   "display_name": "Python 3 (ipykernel)",
   "language": "python",
   "name": "python3"
  },
  "language_info": {
   "codemirror_mode": {
    "name": "ipython",
    "version": 3
   },
   "file_extension": ".py",
   "mimetype": "text/x-python",
   "name": "python",
   "nbconvert_exporter": "python",
   "pygments_lexer": "ipython3",
   "version": "3.9.13"
  }
 },
 "nbformat": 4,
 "nbformat_minor": 5
}
