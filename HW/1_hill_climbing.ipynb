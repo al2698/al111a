{
 "cells": [
  {
   "cell_type": "code",
   "execution_count": 645,
   "id": "f92ec475",
   "metadata": {
    "scrolled": true
   },
   "outputs": [
    {
     "name": "stdout",
     "output_type": "stream",
     "text": [
      "iteration 10000\n",
      "257\n",
      "[9, 10, 3, 6, 9]\n"
     ]
    }
   ],
   "source": [
    "import random\n",
    "\n",
    "# Define the objective function to maximize\n",
    "def objective_function(x):\n",
    "  return 7*x[0] + 8*x[1] + 2*x[2] + 9*x[3] + 6*x[4]\n",
    "\n",
    "# Define the constraints\n",
    "def constraints(x):\n",
    "  return 5*x[0] + 7*x[1] + 9*x[2] + 2*x[3] + 1*x[4] <= 250 and \\\n",
    "         18*x[0] + 4*x[1] - 9*x[2] + 10*x[3] + 12*x[4] <= 285 and \\\n",
    "         4*x[0] + 7*x[1] + 3*x[2] + 8*x[3] + 5*x[4] <= 211 and \\\n",
    "         5*x[0] + 13*x[1] + 16*x[2] + 3*x[3] - 7*x[4] <= 315\n",
    "\n",
    "# Initialize the variables\n",
    "x = [random.randint(0, 10) for _ in range(5)]\n",
    "\n",
    "# Set the step size\n",
    "step_size = 5\n",
    "\n",
    "# Set the maximum number of iterations\n",
    "max_iterations = 10000\n",
    "\n",
    "# Set the stopping criteria\n",
    "tolerance = 1\n",
    "\n",
    "# Initialize the loop variables\n",
    "best_x = x\n",
    "best_score = objective_function(best_x)\n",
    "converged = False\n",
    "iteration = 0\n",
    "step_count = 0\n",
    "\n",
    "# Loop until convergence or maximum number of iterations is reached\n",
    "while not converged and iteration < max_iterations:\n",
    "  # Generate a random neighbor\n",
    "  neighbor = [x[0] + random.randint(-step_size, step_size), x[1] + random.randint(-step_size, step_size), x[2] + random.randint(-step_size, step_size), x[3] + random.randint(-step_size, step_size), x[4] + random.randint(-step_size, step_size)]\n",
    "  \n",
    "  # Check if the neighbor is valid (satisfies the constraints)\n",
    "  if constraints(neighbor):\n",
    "    # Evaluate the neighbor\n",
    "    score = objective_function(neighbor)\n",
    "    \n",
    "    # Update the best solution if necessary\n",
    "    if score > best_score:\n",
    "      best_x = neighbor\n",
    "      best_score = score\n",
    "  \n",
    "  # Check for convergence\n",
    "  if objective_function(x) - best_score > tolerance:\n",
    "    converged = True\n",
    "    step_count = 0\n",
    "  else:\n",
    "    step_count += 1\n",
    "    step_size = random.randint(5, 5+step_count)\n",
    "    \n",
    "  # Update the loop variables\n",
    "  x = best_x\n",
    "  iteration += 1\n",
    "\n",
    "# Print the optimized objective function value and the optimal solution\n",
    "print('iteration', iteration)\n",
    "print(best_score)\n",
    "print(best_x)"
   ]
  },
  {
   "cell_type": "code",
   "execution_count": 15,
   "id": "00c53bc1",
   "metadata": {
    "scrolled": false
   },
   "outputs": [
    {
     "name": "stdout",
     "output_type": "stream",
     "text": [
      "Optimal solution: [11, 9, 13, 0, 13]\n",
      "best arm: 8381\n",
      "Optimal score: 253\n"
     ]
    }
   ],
   "source": [
    "import random\n",
    "\n",
    "# Define the objective function to maximize\n",
    "def objective_function(x):\n",
    "  return 7*x[0] + 8*x[1] + 2*x[2] + 9*x[3] + 6*x[4]\n",
    "\n",
    "# Define the constraints\n",
    "def constraints(x):\n",
    "  return 5*x[0] + 7*x[1] + 9*x[2] + 2*x[3] + 1*x[4] <= 250 and \\\n",
    "         18*x[0] + 4*x[1] - 9*x[2] + 10*x[3] + 12*x[4] <= 285 and \\\n",
    "         4*x[0] + 7*x[1] + 3*x[2] + 8*x[3] + 5*x[4] <= 211 and \\\n",
    "         5*x[0] + 13*x[1] + 16*x[2] + 3*x[3] - 7*x[4] <= 315\n",
    "\n",
    "# Number of arms (possible solutions)\n",
    "n = 10000\n",
    "\n",
    "# Initialize the arms (possible solutions) with random values\n",
    "arms = [[random.randint(0, 20) for _ in range(5)] for _ in range(n)]\n",
    "\n",
    "# Initialize the number of times each arm has been evaluated\n",
    "evaluations = [0 for _ in range(n)]\n",
    "\n",
    "# Initialize the scores for each arm\n",
    "scores = [0 for _ in range(n)]\n",
    "\n",
    "# Initialize the current best arm\n",
    "best_arm = 0\n",
    "\n",
    "# Set the maximum number of iterations\n",
    "max_iterations = 1000\n",
    "\n",
    "# Loop until maximum number of iterations is reached\n",
    "for i in range(max_iterations):\n",
    "    # Choose an arm\n",
    "    arm = random.randint(0, n-i)\n",
    "\n",
    "    # Check if the arm is valid (satisfies the constraints)\n",
    "    if constraints(arms[arm]):\n",
    "        if evaluations[best_arm] == 0:\n",
    "            best_arm = arm\n",
    "        \n",
    "        # Evaluate the arm\n",
    "        score = objective_function(arms[arm])\n",
    "\n",
    "        # Update the number of times the arm has been evaluated\n",
    "        evaluations[arm] += 1\n",
    "\n",
    "        # Update the scores for the arm\n",
    "        scores[arm] += score\n",
    "\n",
    "        # Calculate the average score for the arm\n",
    "        avg_score = scores[arm] / evaluations[arm]\n",
    "\n",
    "        # Update the current best arm if necessary\n",
    "        if avg_score > scores[best_arm] / evaluations[best_arm]:\n",
    "          best_arm = arm\n",
    "\n",
    "# Print the optimal solution and its score\n",
    "print(f'Optimal solution: {arms[best_arm]}')\n",
    "print(f'best arm: {best_arm}')\n",
    "print(f'Optimal score: {int(scores[best_arm]/evaluations[best_arm])}')"
   ]
  },
  {
   "cell_type": "code",
   "execution_count": 565,
   "id": "02aabdda",
   "metadata": {},
   "outputs": [
    {
     "name": "stdout",
     "output_type": "stream",
     "text": [
      "970\n",
      "True\n"
     ]
    }
   ],
   "source": [
    "def objective_function(x):\n",
    "  return 7*x[0] + 8*x[1] + 2*x[2] + 9*x[3] + 6*x[4]\n",
    "def constraints(x):\n",
    "  return 5*x[0] + 7*x[1] + 9*x[2] + 2*x[3] + 1*x[4] <= 250 and \\\n",
    "         18*x[0] + 4*x[1] - 9*x[2] + 10*x[3] + 12*x[4] <= 285 and \\\n",
    "         4*x[0] + 7*x[1] + 3*x[2] + 8*x[3] + 5*x[4] <= 211 and \\\n",
    "         5*x[0] + 13*x[1] + 16*x[2] + 3*x[3] - 7*x[4] <= 315\n",
    "x = [-1743, 3301, -4136, 1129, -2521]\n",
    "\n",
    "print(objective_function(x))\n",
    "print(constraints(x))"
   ]
  },
  {
   "cell_type": "code",
   "execution_count": null,
   "id": "a2e430ed",
   "metadata": {},
   "outputs": [],
   "source": []
  }
 ],
 "metadata": {
  "kernelspec": {
   "display_name": "Python 3 (ipykernel)",
   "language": "python",
   "name": "python3"
  },
  "language_info": {
   "codemirror_mode": {
    "name": "ipython",
    "version": 3
   },
   "file_extension": ".py",
   "mimetype": "text/x-python",
   "name": "python",
   "nbconvert_exporter": "python",
   "pygments_lexer": "ipython3",
   "version": "3.9.13"
  }
 },
 "nbformat": 4,
 "nbformat_minor": 5
}
